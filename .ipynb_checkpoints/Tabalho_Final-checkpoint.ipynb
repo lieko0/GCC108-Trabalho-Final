{
 "cells": [
  {
   "cell_type": "markdown",
   "metadata": {},
   "source": [
    "# Trabalho Final GCC-108 - Teoria da Computação #\n",
    "Prof.: Douglas H. S. Abreu\n",
    "\n",
    "Nome: Marco Antônio Magalhães\n",
    "\n",
    "Turma: 10A\n",
    "\n",
    "Link do repositório [GitHub](https://github.com/lieko0/GCC108-Trabalho-Final)\n",
    "\n",
    "_______________________________________________________________________________________________________________________________"
   ]
  },
  {
   "cell_type": "markdown",
   "metadata": {},
   "source": [
    "# "
   ]
  },
  {
   "cell_type": "markdown",
   "metadata": {},
   "source": [
    "●\tO trabalho deve ser feito em grupos de no máximo 2 componentes\n",
    "\n",
    "●\tTrabalhos entregues após a data limite não serão aceitos\n",
    "\n",
    "●\tData limite de entrega: 29 de Abril de 2022 : 23h59m\n",
    "\n",
    "●\tEnviar o trabalho para o campus virtual, do seguinte modo: Notebook exportado em PDF contendo o código e também o link do repositório GitHub para acesso aos arquivos. A Documentação deve estar no readme\n",
    "\n",
    "●\tO trabalho deve ser desenvolvido no modelo Notebook utilizando a linguagem Python\n",
    "_______________________________________________________________________________________________________________________________ "
   ]
  },
  {
   "attachments": {},
   "cell_type": "markdown",
   "metadata": {},
   "source": [
    "# Introdução\n",
    "Este trabalho propõe a utilização de operações da aritmética computacional por meio de uma Máquina de Turing. A máquina que foi desenvolvida recebe como entrada dois números em binário e gera como saída o resultado da adição desses números.\n",
    "\n",
    "#### Números binários e adição em números binários \n",
    "\n",
    "Os números binários são utilizados para representar dados em um meio digital, como por exemplo, a representação no meio analógico com presença ou ausência de carga elétrica e no meio digital por meio de zeros e uns. Essa representação com dois símbolos utiliza-se da mesma técnica do telégrafo, que transmitia mensagens por código Morse, sendo os símbolos curto e longo análogos ao zero e um (1).\n",
    "\n",
    "Utilizando-se a notação binária é possível representar uma faixa de valores diferentes de acordo com a quantidade de bits. Por exemplo, com dois bits pode-se representar quatro valores distintos, sendo eles 00, 01, 10 e 11. Ou seja, com n bits, podemos representar 2n valores distintos. \n",
    "\n",
    "Para a notação de números inteiros usando a base binária de zeros e uns, podemos representar os números utilizando as seguintes representações: de binário puro, de binários em sinal magnitude e a representação em complemento de 2 (1).\n",
    "\n",
    "Tomando como base a representação de números inteiros na base binária pura, que também é a representação utilizada neste trabalho, pode-se observar na Tabela 1, que com quatro bits temos as seguintes possibilidades para números inteiros.\n",
    "\n",
    "![Tabela1.png](Tabela1.png)\n",
    "\n",
    "As operações matemáticas de adição e subtração feitas na base binária seguem as mesmas regras da base decimal, contando com a diferença que temos apenas dois dígitos. Para a adição de dois números, temos quatro possibilidades de valores, sendo elas: 0 + 0, 0 + 1, 1 + 0, e 1 + 1. As três primeiras têm os mesmos resultados de uma operação em decimal, já para a operação de 1 + 1 temos como resultado zero, gerando um “vai um” para a coluna da esquerda (1).\n",
    "\n",
    "#### Máquina de Turing\n",
    "\n",
    "Turing descreve um computador digital como sendo formado por: uma unidade de armazenamento, uma unidade de execução e uma unidade de controle. A unidade de armazenamento é formada por uma fita, dividida em células, com um cabeçote apontando para a célula atual, a qual pode ser lida/escrita de acordo com a unidade de execução. Por sua vez, a unidade de execução tem como objetivo fazer a leitura do caractere representado na célula atual, analisar o que deve ser feito e alterar quando necessário. Já a unidade de controle faz as movimentações do cabeçote de acordo com o que a unidade de execução deseja, movendo o cabeçote para esquerda ou direita (2).\n",
    "\n",
    "### Exercício 1)\n",
    "Descreva com suas palavras uma estratégia para o desenvolvimento de uma maquina de Turing que compute a soma de 2 numeros binário.\n"
   ]
  },
  {
   "cell_type": "markdown",
   "metadata": {},
   "source": [
    "    A maquina basicamente realiza a soma algarismo por algarismo e mantém o resultado invertido no final da fita. Invertido pois o crescimento da fita tem que ser direcionado ao lado direito, manténdo assim o inicio da fita na mesma posição. O inicio será alterado para 'b' durante a execução e voltará ao seu estado inicial ao fim da execução. Os algarismos que já forem somados serão substituidos por alguma letra, no caso a letra 'x'. Um sinal de '=' será colocado ao final das entrada para indicar o inicio da sequencia que constitui o resultado. Nas situações em que ocorre o \"vai um\" na soma de 1+1 = 10, o algarismo extra será substido pela letra 'u'. Se ao final da execução da soma ainda existir algum 'u' ele será substituido por 1 e o resultado será invertido para a configuração correta e será movido para o inicio da fita. Os caracteres extras 'x' e '=' serão apagados."
   ]
  },
  {
   "cell_type": "markdown",
   "metadata": {},
   "source": [
    "_______________________________________________________________________________________________________________________________"
   ]
  },
  {
   "cell_type": "markdown",
   "metadata": {},
   "source": [
    "\n",
    "### Exercício 2) \n",
    "Faça o esboço por meio de desenho da máquina de Turing proposta."
   ]
  },
  {
   "cell_type": "markdown",
   "metadata": {},
   "source": [
    "![maquina.png](maquina.png)"
   ]
  },
  {
   "cell_type": "markdown",
   "metadata": {},
   "source": [
    "### Exercício 3)\n",
    "Defina a MT como uma quíntupla M=(Q,Σ,Γ,δ,q_0):\n",
    "\t\n",
    "    Q = conjunto de estados (padrão q[0-9]+)\n",
    "\t\n",
    "    Σ = alfabeto de entrada\n",
    "\t\n",
    "    Γ = alfabeto da fita\n",
    "\t\n",
    "    δ = função de transição no formato (q_i,x)→(q_j,y,D); assim, estando no estado q_i, lendo x, vai para o estado q_j, escreve y e movimenta na direção de D. D será L para esquerda ou R para direita.\n",
    "    \n",
    "    q_0 = estado inicial\n",
    "    \n"
   ]
  },
  {
   "cell_type": "markdown",
   "metadata": {},
   "source": [
    "$\n",
    "M=(Q,Σ,Γ,δ,q \n",
    "0\n",
    "​\n",
    " )\\\\\n",
    "Q=\\{q0, q1, q2, q3, q4, q5, q6, q7, q8, q9, q10, q11, q12, \n",
    "q13, q14, q15, q16, q17, q18, q19, q20, q21, q22, q23, q24, q25, \n",
    "q26, q27, q28, q29, q30\\}\\\\\n",
    "Σ=\\{B,0,1\\}\\\\\n",
    "Γ=\\{B,=,u,0,x,b,1\\}\\\\\n",
    "δ(q0,B)→(q1,b,R), δ(q1,0)→(q1,0,R), δ(q1,1)→(q1,1,R), \n",
    "δ(q1,x)→(q2,x,L), δ(q1,B)→(q2,B,L), δ(q2,0)→(q4,x,R), \n",
    "δ(q2,x)→(q2,x,L), δ(q2,1)→(q3,x,R), δ(q2,b)→(q4,b,R), \n",
    "δ(q3,x)→(q3,x,R), δ(q3,B)→(q12,B,R), δ(q4,B)→(q13,B,R), \n",
    "δ(q4,x)→(q4,x,R), δ(q5,B)→(q19,B,R), δ(q5,1)→(q6,x,R), \n",
    "δ(q5,0)→(q7,x,R), δ(q6,=)→(q11,=,R), δ(q6,x)→(q6,x,R), \n",
    "δ(q7,x)→(q7,x,R), δ(q7,=)→(q9,=,R), δ(q8,B)→(q10,u,L), \n",
    "δ(q9,1)→(q9,1,R), δ(q9,0)→(q9,0,R), δ(q9,u)→(q10,1,L), \n",
    "δ(q9,B)→(q10,0,L), δ(q10,b)→(q1,b,R), δ(q10,B)→(q10,B,L), \n",
    "δ(q10,x)→(q10,x,L), δ(q10,=)→(q10,=,L), δ(q10,0)→(q10,0,L), \n",
    "δ(q10,1)→(q10,1,L), δ(q11,u)→(q14,0,R), δ(q11,0)→(q11,0,R), \n",
    "δ(q11,1)→(q11,1,R), δ(q11,B)→(q10,1,L), δ(q12,B)→(q15,=,L), \n",
    "δ(q12,0)→(q12,0,R), δ(q12,1)→(q12,1,R), δ(q12,x)→(q15,x,L), \n",
    "δ(q12,=)→(q15,=,L), δ(q13,=)→(q20,=,R), δ(q13,B)→(q5,=,L), \n",
    "δ(q13,0)→(q13,0,R), δ(q13,1)→(q13,1,R), δ(q13,x)→(q5,x,L), \n",
    "δ(q14,B)→(q10,u,L), δ(q15,0)→(q6,x,R), δ(q15,1)→(q16,x,R), \n",
    "δ(q15,=)→(q6,=,R), δ(q15,B)→(q6,B,R), δ(q16,=)→(q17,=,R), \n",
    "δ(q16,x)→(q16,x,R), δ(q17,B)→(q8,0,R), δ(q17,1)→(q17,1,R), \n",
    "δ(q17,0)→(q17,0,R), δ(q17,u)→(q18,1,R), δ(q18,B)→(q10,u,L), \n",
    "δ(q19,x)→(q19,x,R), δ(q19,=)→(q20,=,R), δ(q20,1)→(q20,1,R), \n",
    "δ(q20,0)→(q20,0,R), δ(q20,B)→(q22,B,L), δ(q20,u)→(q21,1,R), \n",
    "δ(q21,B)→(q22,B,L), δ(q22,1)→(q23,B,L), δ(q22,=)→(q28,B,L), \n",
    "δ(q22,0)→(q26,B,L), δ(q23,1)→(q23,1,L), δ(q23,x)→(q23,x,L), \n",
    "δ(q23,B)→(q23,B,L), δ(q23,=)→(q23,=,L), δ(q23,0)→(q23,0,L), \n",
    "δ(q23,b)→(q24,b,R), δ(q24,x)→(q25,1,R), δ(q24,B)→(q25,1,R), \n",
    "δ(q24,1)→(q24,1,R), δ(q24,0)→(q24,0,R), δ(q25,=)→(q20,=,R), \n",
    "δ(q25,B)→(q25,B,R), δ(q25,x)→(q25,x,R), δ(q26,b)→(q27,b,R), \n",
    "δ(q26,=)→(q26,=,L), δ(q26,x)→(q26,x,L), δ(q26,1)→(q26,1,L), \n",
    "δ(q26,0)→(q26,0,L), δ(q26,B)→(q26,B,L), δ(q27,x)→(q25,0,R), \n",
    "δ(q27,1)→(q27,1,R), δ(q27,0)→(q27,0,R), δ(q27,B)→(q25,0,R), \n",
    "δ(q28,x)→(q28,B,L), δ(q28,0)→(q28,0,L), δ(q28,B)→(q28,B,L), \n",
    "δ(q28,1)→(q28,1,L), δ(q28,b)→(q29,B,R), δ(q29,1)→(q30,1,L), \n",
    "δ(q29,0)→(q30,0,L), δ(q29,B)→(q30,B,L)\\\\\n",
    "q \n",
    "0\n",
    "​\n",
    " =q0$"
   ]
  },
  {
   "cell_type": "markdown",
   "metadata": {},
   "source": [
    "### Exercício 4)\n",
    "Faça a conversão de M em R(M)\n"
   ]
  },
  {
   "cell_type": "markdown",
   "metadata": {},
   "source": [
    "R(M) = 000101011011111101100110111101101111011001101111111011011111110110011011111011101111101001101011101010011101111011111011111011001110111110111011111010011101111111011110111110110011101111110111110111111011001111011111011110111110110011110101111111111111010110011111010111111111111110101100111110111110111110111110110011111101011111111111111111111010110011111101111111011111110111110110011111101111011111111011111011001111111011011111111111101101100111111101111101111111011111011001111111101111101111111101111101100111111110110111111111101101100111111111010111111111110111010011111111110111111101111111111011111110110011111111110111101111111111011110110011111111110111011111111111011111110100111111111101011111111111011110100111111111110111111011011111101100111111111110101111111111101010011111111111011111011111111111011111010011111111111011011111111111011010011111111111011110111111111110111101001111111111101111111011111111111011111110100111111111111011101111111111111110111101100111111111111011110111111111111011110110011111111111101111111011111111111101111111011001111111111110101111111111101111111010011111111111110101111111111111111011010011111111111110111101111111111111011110110011111111111110111111101111111111111011111110110011111111111110111110111111111111111101111101001111111111111011011111111111111110110100111111111111110110111111111111111111111011011001111111111111101011111101101001111111111111101111011111111111111011110110011111111111111011111110111111111111110111111101100111111111111110111110111111011111010011111111111111101011111111111011101001111111111111111011110111111101111101100111111111111111101111111011111111111111111011111011001111111111111111011011111110110110011111111111111110101111111010110011111111111111111011011111111111111111101101100111111111111111110111110111111111111111110111110110011111111111111111101011111111101111011001111111111111111110111111101111111111111111110111111101100111111111111111111011110111111111111111111011110110011111111111111111101110111111111111111111101111111011001111111111111111111010111111111110111010011111111111111111111011111011111111111111111111011111011001111111111111111111101101111111111111111111110110110011111111111111111111101111111011111111111111111111101111111011001111111111111111111110111101111111111111111111110111101100111111111111111111111010111111111111111111111110101001111111111111111111110111011111111111111111111110111111101100111111111111111111111101011111111111111111111111010100111111111111111111111110111111101111111111111111111111110101001111111111111111111111101101111111111111111111111111111101010011111111111111111111111011110111111111111111111111111111010100111111111111111111111111011111110111111111111111111111111011111110100111111111111111111111111011111011111111111111111111111101111101001111111111111111111111110101111111111111111111111110101001111111111111111111111110110111111111111111111111111011010011111111111111111111111101111011111111111111111111111101111010011111111111111111111111101111110111111111111111111111111101111110110011111111111111111111111110111110111111111111111111111111110111111101100111111111111111111111111101011111111111111111111111111011111110110011111111111111111111111110111111101111111111111111111111111011111110110011111111111111111111111110111101111111111111111111111111011110110011111111111111111111111111011011111111111111111111101101100111111111111111111111111110101111111111111111111111111101011001111111111111111111111111101111101111111111111111111111111101111101100111111111111111111111111111011111101111111111111111111111111111011111101100111111111111111111111111111011011111111111111111111111111101101001111111111111111111111111110111110111111111111111111111111111011111010011111111111111111111111111101111111011111111111111111111111111101111111010011111111111111111111111111101111011111111111111111111111111101111010011111111111111111111111111101011111111111111111111111111101010011111111111111111111111111110111110111111111111111111111111110111101100111111111111111111111111111101111111011111111111111111111111111110111111101100111111111111111111111111111101111011111111111111111111111111110111101100111111111111111111111111111101011111111111111111111111111011110110011111111111111111111111111111011111011111111111111111111111111111010100111111111111111111111111111110111101111111111111111111111111111101111010011111111111111111111111111111010111111111111111111111111111110101001111111111111111111111111111101111111011111111111111111111111111111011111110100111111111111111111111111111110111111011111111111111111111111111111101011001111111111111111111111111111110111111101111111111111111111111111111111011111110100111111111111111111111111111111011110111111111111111111111111111111101111010011111111111111111111111111111101011111111111111111111111111111110101000"
   ]
  },
  {
   "cell_type": "markdown",
   "metadata": {},
   "source": [
    "\n",
    "### Exercício 5) \n",
    "Desenvolva uma função MTU que receba R(M) acrescido de uma entrada w, onde w é um arquivo csv que contem dois números binário. A saída da função MTU deve ser a computação de M para uma entrada w."
   ]
  },
  {
   "cell_type": "code",
   "execution_count": 42,
   "metadata": {},
   "outputs": [
    {
     "name": "stdout",
     "output_type": "stream",
     "text": [
      "Entrada: \n",
      "B1011000B1101\n",
      "\n",
      "\n",
      "Resultado: \n",
      "1100101\n"
     ]
    }
   ],
   "source": [
    "import pandas as pd\n",
    "\n",
    "# Entrada de dados\n",
    "entrada = pd.read_csv('exemplo2.CSV')\n",
    "entrada = 'B'+'B'.join(str(entrada.columns[0]).split(';'))\n",
    "print('Entrada: ')\n",
    "print(entrada)\n",
    "print('\\n')\n",
    "\n",
    "\n",
    "# Configuração inicial\n",
    "inicial_code = 0\n",
    "final_code = 30\n",
    "inicial = '1'*inicial_code\n",
    "final = '1'*final_code\n",
    "\n",
    "fita_code = {'1':'B','2':'=','3':'u','4':'0','5':'x','6':'b','7':'1'}\n",
    "direcao_code = {'1':'L','2':'R'}\n",
    "\n",
    "entrada_w = ''\n",
    "for char in entrada:\n",
    "    char_code = '1'*int(list(fita_code.keys())[list(fita_code.values()).index(char)])\n",
    "    entrada_w+=char_code+'0'\n",
    "entrada_w+='00'\n",
    "    \n",
    "mr = \"000101011011111101100110111101101111011001101111111011011111110110011011111011101111101001101011101010011101111011111011111011001110111110111011111010011101111111011110111110110011101111110111110111111011001111011111011110111110110011110101111111111111010110011111010111111111111110101100111110111110111110111110110011111101011111111111111111111010110011111101111111011111110111110110011111101111011111111011111011001111111011011111111111101101100111111101111101111111011111011001111111101111101111111101111101100111111110110111111111101101100111111111010111111111110111010011111111110111111101111111111011111110110011111111110111101111111111011110110011111111110111011111111111011111110100111111111101011111111111011110100111111111110111111011011111101100111111111110101111111111101010011111111111011111011111111111011111010011111111111011011111111111011010011111111111011110111111111110111101001111111111101111111011111111111011111110100111111111111011101111111111111110111101100111111111111011110111111111111011110110011111111111101111111011111111111101111111011001111111111110101111111111101111111010011111111111110101111111111111111011010011111111111110111101111111111111011110110011111111111110111111101111111111111011111110110011111111111110111110111111111111111101111101001111111111111011011111111111111110110100111111111111110110111111111111111111111011011001111111111111101011111101101001111111111111101111011111111111111011110110011111111111111011111110111111111111110111111101100111111111111110111110111111011111010011111111111111101011111111111011101001111111111111111011110111111101111101100111111111111111101111111011111111111111111011111011001111111111111111011011111110110110011111111111111110101111111010110011111111111111111011011111111111111111101101100111111111111111110111110111111111111111110111110110011111111111111111101011111111101111011001111111111111111110111111101111111111111111110111111101100111111111111111111011110111111111111111111011110110011111111111111111101110111111111111111111101111111011001111111111111111111010111111111110111010011111111111111111111011111011111111111111111111011111011001111111111111111111101101111111111111111111110110110011111111111111111111101111111011111111111111111111101111111011001111111111111111111110111101111111111111111111110111101100111111111111111111111010111111111111111111111110101001111111111111111111110111011111111111111111111110111111101100111111111111111111111101011111111111111111111111010100111111111111111111111110111111101111111111111111111111110101001111111111111111111111101101111111111111111111111111111101010011111111111111111111111011110111111111111111111111111111010100111111111111111111111111011111110111111111111111111111111011111110100111111111111111111111111011111011111111111111111111111101111101001111111111111111111111110101111111111111111111111110101001111111111111111111111110110111111111111111111111111011010011111111111111111111111101111011111111111111111111111101111010011111111111111111111111101111110111111111111111111111111101111110110011111111111111111111111110111110111111111111111111111111110111111101100111111111111111111111111101011111111111111111111111111011111110110011111111111111111111111110111111101111111111111111111111111011111110110011111111111111111111111110111101111111111111111111111111011110110011111111111111111111111111011011111111111111111111101101100111111111111111111111111110101111111111111111111111111101011001111111111111111111111111101111101111111111111111111111111101111101100111111111111111111111111111011111101111111111111111111111111111011111101100111111111111111111111111111011011111111111111111111111111101101001111111111111111111111111110111110111111111111111111111111111011111010011111111111111111111111111101111111011111111111111111111111111101111111010011111111111111111111111111101111011111111111111111111111111101111010011111111111111111111111111101011111111111111111111111111101010011111111111111111111111111110111110111111111111111111111111110111101100111111111111111111111111111101111111011111111111111111111111111110111111101100111111111111111111111111111101111011111111111111111111111111110111101100111111111111111111111111111101011111111111111111111111111011110110011111111111111111111111111111011111011111111111111111111111111111010100111111111111111111111111111110111101111111111111111111111111111101111010011111111111111111111111111111010111111111111111111111111111110101001111111111111111111111111111101111111011111111111111111111111111111011111110100111111111111111111111111111110111111011111111111111111111111111111101011001111111111111111111111111111110111111101111111111111111111111111111111011111110100111111111111111111111111111111011110111111111111111111111111111111101111010011111111111111111111111111111101011111111111111111111111111111110101000\"\n",
    "mrw = mr+entrada_w\n",
    "\n",
    "# função MTU = {R(M)| R(M) aceite w}\n",
    "# O código converte a sequencia de r(M) para que a MTU execute as operações mais simplificadamente\n",
    "# A converção é baseada na configuração inicial \n",
    "def MTU (mr,w):\n",
    "    x = mr.split(\"000\")\n",
    "    #print(x)\n",
    "    trans = x[1].split(\"00\")\n",
    "    fita = list(w+'B'*(len(w)+5))\n",
    "    a = dict()\n",
    "    b = dict()\n",
    "\n",
    "    for tra in trans:\n",
    "        #print(tra.split(\"0\"))\n",
    "        ori,rec,des,res,dir = tra.split(\"0\")\n",
    "        b[ori,rec] = des,res,dir\n",
    "        a[len(ori)-1,fita_code.get(str(len(rec)))] = len(des)-1,fita_code.get(str(len(res))),direcao_code.get(str(len(dir)))\n",
    "    #print(b)\n",
    "    #print(a)\n",
    "    state = inicial_code\n",
    "    i=0\n",
    "    while(state!=final_code):\n",
    "        #print(fita)\n",
    "        read = fita[i]\n",
    "        \n",
    "        state2,write,direction = list(a.get((state,read)))\n",
    "        \n",
    "        state = state2\n",
    "        #print(state2,write,direction)\n",
    "        fita[i] = write\n",
    "        if direction == 'R':\n",
    "            i+=1\n",
    "        else:\n",
    "            i-=1\n",
    "\n",
    "    #print(fita)\n",
    "    try:\n",
    "        while True:\n",
    "            fita.remove('B')\n",
    "    except ValueError:\n",
    "        pass\n",
    "\n",
    "    print('Resultado: ')\n",
    "    print(''.join(str(io) for io in fita))\n",
    "        \n",
    "        \n",
    "\n",
    "MTU(mr,entrada)"
   ]
  },
  {
   "cell_type": "markdown",
   "metadata": {},
   "source": [
    "### Exercício 6) \n",
    "\n",
    "_A)_ Explique a Tese de Chuch-Turing de forma sucinta\n",
    "\n"
   ]
  },
  {
   "cell_type": "markdown",
   "metadata": {},
   "source": [
    "      Sucintamente, a tese pode ser considerada uma tentativa de se determinar precisamente o alcance e os limites da computação teórica. O enunciado estrito diz que toda função algoritimica é turing-computável e o enunciado extendido diz que toda função parcial algoritimica é parcialmente turing-computável. "
   ]
  },
  {
   "cell_type": "markdown",
   "metadata": {},
   "source": [
    "_B)_ Dada uma máquina de Turing arbitrária M e uma string de entrada w, a computação de M com entrada w irá parar em menos de 100 transições? Descreva uma máquina de Turing que resolva esse problema de decisão.\n",
    "\n"
   ]
  },
  {
   "cell_type": "markdown",
   "metadata": {},
   "source": [
    "    Não é possível afirmar genericamente isso. A definição de uma máquina que diz isso sempre resulta em contradições tornando impossível provar a existencia."
   ]
  },
  {
   "cell_type": "markdown",
   "metadata": {},
   "source": [
    "_C)_ Motre a solução para cada um dos seguintes sitemas de correspondência de Post:\n",
    "\n",
    "a) (a, aa), (bb, b), (a, bb)\n",
    "\n"
   ]
  },
  {
   "cell_type": "markdown",
   "metadata": {},
   "source": [
    "    a  |a  |bb |b b\n",
    "    a a| bb|  b|  b\n",
    "    1   3   2   2\n",
    "\n",
    "    Um inicio com 2 não teria continuidade."
   ]
  },
  {
   "cell_type": "markdown",
   "metadata": {},
   "source": [
    "b) (a, ab), (ba, aba), (b, aba), (bba, b)\n",
    "\n",
    "\n"
   ]
  },
  {
   "cell_type": "markdown",
   "metadata": {},
   "source": [
    "    a  |b b a|  ba\n",
    "    a b|  b  |a ba\n",
    "    1   4     3\n",
    "\n",
    "    Um inicio com 2 não teria continuidade"
   ]
  },
  {
   "cell_type": "markdown",
   "metadata": {},
   "source": [
    "c) (abb, ab), (aba, ba), (aab,a bab)\n",
    "\n"
   ]
  },
  {
   "cell_type": "markdown",
   "metadata": {},
   "source": [
    "    ab b|  a ba|\n",
    "    ab  |b a   |\n",
    "    1    2      2...\n",
    "\n",
    "    Somente 1 pode iniciar e somente 2 pode sucede-lo. Mas somente 2 pode suceder 2, gerando assim uma sequencia infinita inválida 1222..."
   ]
  },
  {
   "cell_type": "markdown",
   "metadata": {},
   "source": [
    "d) (ab,aba), (baa, aa), (aba, baa)\n",
    "\n"
   ]
  },
  {
   "cell_type": "markdown",
   "metadata": {},
   "source": [
    "    ab  |a ba  |\n",
    "    ab a|  ba a|\n",
    "    1    3      3...\n",
    "    \n",
    "    Mesmo problema da letra anterior mas agora com o 3. Uma sequencia infinita e incorreta da forma 1333..."
   ]
  },
  {
   "cell_type": "markdown",
   "metadata": {},
   "source": [
    "e) (a, aaa), (aab, b), (abaaa, ab)\n",
    "\n"
   ]
  },
  {
   "cell_type": "markdown",
   "metadata": {},
   "source": [
    "    a   |aa b\n",
    "    a aa|   b\n",
    "    1    2\n",
    "\n",
    "    Somente 1 e 3 podem iniciar, mas um inicio com 3 gera uma sequencia infinita e incorreta."
   ]
  },
  {
   "cell_type": "markdown",
   "metadata": {},
   "source": [
    "f) (ab, bb), (aa, ba), (ab, abb), (bb, bab)"
   ]
  },
  {
   "cell_type": "markdown",
   "metadata": {},
   "source": [
    "    Como somente possui peças com 2/2 ou 2/3 algarismos, fica impossível de encontrar uma seguencia a não ser que seja formada somente por 1 e 2. Mas 1 e 2 não podem se quer iniciar uma sequencia válida."
   ]
  },
  {
   "cell_type": "markdown",
   "metadata": {},
   "source": [
    "\n",
    "_______________________________________________________________________________________________________________________________\n",
    "\n"
   ]
  },
  {
   "cell_type": "markdown",
   "metadata": {},
   "source": [
    "_D)_ \n",
    "\n",
    "a) Prove que a função é primitiva recursiva\n",
    " \n",
    "![minimizacao.png](minimizacao.png)\n",
    "\n",
    "sempre que _p_ e _u_ são recursivas primitivas \n",
    "\n"
   ]
  },
  {
   "cell_type": "markdown",
   "metadata": {},
   "source": [
    "    O operador de minimalização limitada define uma função recursiva primitiva sempre que o predicado for recursivo primitivo. Como esse é o caso, pois p é recursiva primitiva, então cai no caso similar a prova de somatório ou produto limitado."
   ]
  },
  {
   "cell_type": "markdown",
   "metadata": {},
   "source": [
    "b) defina o valor \"passo a passo\" de _gn(4,1,0,2,1) =_\n",
    "\n"
   ]
  },
  {
   "cell_type": "markdown",
   "metadata": {},
   "source": [
    "$\n",
    "gn (4, 1, 0, 2, 1) = pn(0)^4 * pn(1)^1  * pn(2)^0 * pn(3)^2 * pn(4)^1\\\\\n",
    "gn (4, 1, 0, 2, 1) = 2^4 * 3^1  * 5^0 * 7^2 * 11^1\\\\\n",
    "gn (4, 1, 0, 2, 1) = 16 * 3  * 1 * 49 * 11\\\\\n",
    "gn (4, 1, 0, 2, 1) = 25872\n",
    "$\n",
    "    "
   ]
  },
  {
   "cell_type": "markdown",
   "metadata": {},
   "source": [
    "_______________________________________________________________________________________________________________________________"
   ]
  },
  {
   "attachments": {},
   "cell_type": "markdown",
   "metadata": {},
   "source": [
    " _E)_ \n",
    "\n",
    "a) Dado _f(x) = 3x² + 4x + 6_ e _g(x) = 5x²_ \n",
    "\n",
    "Prove que _g(x) ∈ O(f)_ e _f(x) ∈ O(g)_\n",
    "\n"
   ]
  },
  {
   "cell_type": "markdown",
   "metadata": {},
   "source": [
    "    f e g são polinomios de mesma ordem.\n",
    "    Em f especificamente, o fator decisivo é o 3x², sendo que 4x e 6 será menores que 3x² para qualquer x>1.\n",
    "    Tem-se: f(x) = 3x² + 4x + 6 <= 3x² + 4x² + 6x² = 13x². Que por sua vez é da forma 13x² = c1*g(x). Isso implica em limites similares para as duas funções, e consequentemente que possuem mesmo O(f)=O(g)."
   ]
  },
  {
   "cell_type": "markdown",
   "metadata": {},
   "source": [
    "b) Qual é a complexidade e o \"_big O\"_ de M'?\n",
    "\n",
    "![MT.png](MT.png)\n"
   ]
  },
  {
   "cell_type": "markdown",
   "metadata": {},
   "source": [
    "    Contando o número de transições a cada passo, conclui-se que a complexidade\n",
    "    de tempo de 𝑀 é\n",
    "    tcM 𝑛 = 3 (𝑛 + 1) + 1\n",
    "\n",
    "    A complexidade O(3n+4) é, por definição, análoga a O(n)."
   ]
  },
  {
   "cell_type": "markdown",
   "metadata": {},
   "source": [
    "_______________________________________________________________________________________________________________________________\n",
    "\n",
    "# Referências\n",
    "\n",
    "(1) _Ronald. J. Tocci, Neal. S. Widmer e Gregory L. Moss. 2011. Sistemas Digitais: Princípios e Aplicações. (11ª ed.). Pearson._\n",
    "\n",
    "(2) _Alan Turing. 1937. Computability and λ-definability. Journal of Symbolic Logic, 2, 4: 153–163._\n",
    "\n",
    "(3) _Sudkamp, T. A. 2006. Languages and machines: an introduction to the theory of computer science. 3rd Edition_\n",
    "_______________________________________________________________________________________________________________________________"
   ]
  },
  {
   "cell_type": "code",
   "execution_count": null,
   "metadata": {},
   "outputs": [],
   "source": []
  },
  {
   "cell_type": "markdown",
   "metadata": {},
   "source": [
    "_______________________________________________________________________________________________________________________________\n",
    "# Links úteis:\n",
    "\n",
    "Link do site [Jupyter](https://jupyter.org/)\n",
    "\n",
    "Link do site [Anaconda](https://www.anaconda.com/)\n",
    "\n",
    "Link para ajuda com [Markdown no Notebook](https://acervolima.com/celula-markdown-no-caderno-jupyter/)\n"
   ]
  }
 ],
 "metadata": {
  "kernelspec": {
   "display_name": "Python 3 (ipykernel)",
   "language": "python",
   "name": "python3"
  },
  "language_info": {
   "codemirror_mode": {
    "name": "ipython",
    "version": 3
   },
   "file_extension": ".py",
   "mimetype": "text/x-python",
   "name": "python",
   "nbconvert_exporter": "python",
   "pygments_lexer": "ipython3",
   "version": "3.9.7"
  }
 },
 "nbformat": 4,
 "nbformat_minor": 4
}
